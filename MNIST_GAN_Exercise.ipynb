{
 "cells": [
  {
   "cell_type": "markdown",
   "metadata": {
    "colab_type": "text",
    "id": "DGrFey1LcHcD"
   },
   "source": [
    "# Generative Adversarial Network\n",
    "\n",
    "In this notebook, we'll be building a generative adversarial network (GAN) trained on the MNIST dataset. From this, we'll be able to generate new handwritten digits!\n",
    "\n",
    "GANs were [first reported on](https://arxiv.org/abs/1406.2661) in 2014 from Ian Goodfellow and others in Yoshua Bengio's lab. Since then, GANs have exploded in popularity. Here are a few examples to check out:\n",
    "\n",
    "* [Pix2Pix](https://affinelayer.com/pixsrv/) \n",
    "* [CycleGAN & Pix2Pix in PyTorch, Jun-Yan Zhu](https://github.com/junyanz/pytorch-CycleGAN-and-pix2pix)\n",
    "* [A list of generative models](https://github.com/wiseodd/generative-models)\n",
    "\n",
    "The idea behind GANs is that we have two networks, a generator $G$ and a discriminator $D$, competing against each other. The generator makes \"fake\" data to pass to the discriminator. The discriminator also sees real training data and predicts if the data it's received is real or fake. \n",
    "> * The generator is trained to fool the discriminator, it wants to output data that looks _as close as possible_ to real, training data. \n",
    "* The discriminator is a classifier that is trained to figure out which data is real and which is fake. \n",
    "\n",
    "What ends up happening is that the generator learns to make data that is indistinguishable from real data to the discriminator.\n",
    "\n",
    "<img src='assets/gan_pipeline.png' width=70% />\n",
    "\n",
    "The general structure of a GAN is shown in the diagram above, using MNIST images as data. The latent sample is a random vector that the generator uses to construct its fake images. This is often called a **latent vector** and that vector space is called **latent space**. As the generator trains, it figures out how to map latent vectors to recognizable images that can fool the discriminator.\n",
    "\n",
    "If we want to generate only new images, we can throw out the discriminator after training. This notebook will show how to define and train these adversarial networks in PyTorch and generate new images!"
   ]
  },
  {
   "cell_type": "code",
   "execution_count": 0,
   "metadata": {
    "colab": {},
    "colab_type": "code",
    "id": "jOUnBKI0cHcH"
   },
   "outputs": [],
   "source": [
    "%matplotlib inline\n",
    "\n",
    "import numpy as np\n",
    "import torch\n",
    "import matplotlib.pyplot as plt"
   ]
  },
  {
   "cell_type": "code",
   "execution_count": 2,
   "metadata": {
    "colab": {
     "base_uri": "https://localhost:8080/",
     "height": 265
    },
    "colab_type": "code",
    "executionInfo": {
     "elapsed": 7588,
     "status": "ok",
     "timestamp": 1555159773388,
     "user": {
      "displayName": "Vikash Chouhan",
      "photoUrl": "https://lh5.googleusercontent.com/-5PQtEyCEjJk/AAAAAAAAAAI/AAAAAAAAADM/CH5FmzCM_v0/s64/photo.jpg",
      "userId": "06020587256007917917"
     },
     "user_tz": -330
    },
    "id": "kl3kmxnecHcO",
    "outputId": "50108244-c817-4322-c007-27f63e4a23fb"
   },
   "outputs": [
    {
     "name": "stderr",
     "output_type": "stream",
     "text": [
      "\r",
      "0it [00:00, ?it/s]"
     ]
    },
    {
     "name": "stdout",
     "output_type": "stream",
     "text": [
      "Downloading http://yann.lecun.com/exdb/mnist/train-images-idx3-ubyte.gz to data/MNIST/raw/train-images-idx3-ubyte.gz\n"
     ]
    },
    {
     "name": "stderr",
     "output_type": "stream",
     "text": [
      "9920512it [00:02, 3611383.29it/s]                             \n"
     ]
    },
    {
     "name": "stdout",
     "output_type": "stream",
     "text": [
      "Extracting data/MNIST/raw/train-images-idx3-ubyte.gz\n"
     ]
    },
    {
     "name": "stderr",
     "output_type": "stream",
     "text": [
      "\r",
      "0it [00:00, ?it/s]"
     ]
    },
    {
     "name": "stdout",
     "output_type": "stream",
     "text": [
      "Downloading http://yann.lecun.com/exdb/mnist/train-labels-idx1-ubyte.gz to data/MNIST/raw/train-labels-idx1-ubyte.gz\n"
     ]
    },
    {
     "name": "stderr",
     "output_type": "stream",
     "text": [
      "32768it [00:00, 57220.93it/s]                           \n",
      "0it [00:00, ?it/s]"
     ]
    },
    {
     "name": "stdout",
     "output_type": "stream",
     "text": [
      "Extracting data/MNIST/raw/train-labels-idx1-ubyte.gz\n",
      "Downloading http://yann.lecun.com/exdb/mnist/t10k-images-idx3-ubyte.gz to data/MNIST/raw/t10k-images-idx3-ubyte.gz\n"
     ]
    },
    {
     "name": "stderr",
     "output_type": "stream",
     "text": [
      "1654784it [00:01, 955293.55it/s]                            \n",
      "0it [00:00, ?it/s]"
     ]
    },
    {
     "name": "stdout",
     "output_type": "stream",
     "text": [
      "Extracting data/MNIST/raw/t10k-images-idx3-ubyte.gz\n",
      "Downloading http://yann.lecun.com/exdb/mnist/t10k-labels-idx1-ubyte.gz to data/MNIST/raw/t10k-labels-idx1-ubyte.gz\n"
     ]
    },
    {
     "name": "stderr",
     "output_type": "stream",
     "text": [
      "8192it [00:00, 21549.78it/s]            "
     ]
    },
    {
     "name": "stdout",
     "output_type": "stream",
     "text": [
      "Extracting data/MNIST/raw/t10k-labels-idx1-ubyte.gz\n",
      "Processing...\n",
      "Done!\n"
     ]
    },
    {
     "name": "stderr",
     "output_type": "stream",
     "text": [
      "\n"
     ]
    }
   ],
   "source": [
    "from torchvision import datasets\n",
    "import torchvision.transforms as transforms\n",
    "\n",
    "# number of subprocesses to use for data loading\n",
    "num_workers = 0\n",
    "# how many samples per batch to load\n",
    "batch_size = 64\n",
    "\n",
    "# convert data to torch.FloatTensor\n",
    "transform = transforms.ToTensor()\n",
    "\n",
    "# get the training datasets\n",
    "train_data = datasets.MNIST(root='data', train=True,\n",
    "                                   download=True, transform=transform)\n",
    "\n",
    "# prepare data loader\n",
    "train_loader = torch.utils.data.DataLoader(train_data, batch_size=batch_size,\n",
    "                                           num_workers=num_workers)"
   ]
  },
  {
   "cell_type": "markdown",
   "metadata": {
    "colab_type": "text",
    "id": "t28fb2hLcHcU"
   },
   "source": [
    "### Visualize the data"
   ]
  },
  {
   "cell_type": "code",
   "execution_count": 3,
   "metadata": {
    "colab": {
     "base_uri": "https://localhost:8080/",
     "height": 231
    },
    "colab_type": "code",
    "executionInfo": {
     "elapsed": 5961,
     "status": "ok",
     "timestamp": 1555159773390,
     "user": {
      "displayName": "Vikash Chouhan",
      "photoUrl": "https://lh5.googleusercontent.com/-5PQtEyCEjJk/AAAAAAAAAAI/AAAAAAAAADM/CH5FmzCM_v0/s64/photo.jpg",
      "userId": "06020587256007917917"
     },
     "user_tz": -330
    },
    "id": "Si2TcNgncHcV",
    "outputId": "f075dacc-4615-4c12-896b-f0f51db00fa6"
   },
   "outputs": [
    {
     "data": {
      "text/plain": [
       "<matplotlib.image.AxesImage at 0x7f63d2ff6da0>"
      ]
     },
     "execution_count": 3,
     "metadata": {
      "tags": []
     },
     "output_type": "execute_result"
    },
    {
     "data": {
      "image/png": "[encoded data removed]",
      "text/plain": [
       "<Figure size 216x216 with 1 Axes>"
      ]
     },
     "metadata": {
      "tags": []
     },
     "output_type": "display_data"
    }
   ],
   "source": [
    "# obtain one batch of training images\n",
    "dataiter = iter(train_loader)\n",
    "images, labels = dataiter.next()\n",
    "images = images.numpy()\n",
    "\n",
    "# get one image from the batch\n",
    "img = np.squeeze(images[0])\n",
    "\n",
    "fig = plt.figure(figsize = (3,3)) \n",
    "ax = fig.add_subplot(111)\n",
    "ax.imshow(img, cmap='gray')"
   ]
  },
  {
   "cell_type": "markdown",
   "metadata": {
    "colab_type": "text",
    "id": "0pTSsSOccHcb"
   },
   "source": [
    "---\n",
    "# Define the Model\n",
    "\n",
    "A GAN is comprised of two adversarial networks, a discriminator and a generator."
   ]
  },
  {
   "cell_type": "markdown",
   "metadata": {
    "colab_type": "text",
    "id": "w8-DEoKLcHcc"
   },
   "source": [
    "## Discriminator\n",
    "\n",
    "The discriminator network is going to be a pretty typical linear classifier. To make this network a universal function approximator, we'll need at least one hidden layer, and these hidden layers should have one key attribute:\n",
    "> All hidden layers will have a [Leaky ReLu](https://pytorch.org/docs/stable/nn.html#torch.nn.LeakyReLU) activation function applied to their outputs.\n",
    "\n",
    "<img src='assets/gan_network.png' width=70% />\n",
    "\n",
    "#### Leaky ReLu\n",
    "\n",
    "We should use a leaky ReLU to allow gradients to flow backwards through the layer unimpeded. A leaky ReLU is like a normal ReLU, except that there is a small non-zero output for negative input values.\n",
    "\n",
    "<img src='assets/leaky_relu.png' width=40% />\n",
    "\n",
    "#### Sigmoid Output\n",
    "\n",
    "We'll also take the approach of using a more numerically stable loss function on the outputs. Recall that we want the discriminator to output a value 0-1 indicating whether an image is _real or fake_. \n",
    "> We will ultimately use [BCEWithLogitsLoss](https://pytorch.org/docs/stable/nn.html#bcewithlogitsloss), which combines a `sigmoid` activation function **and** and binary cross entropy loss in one function. \n",
    "\n",
    "So, our final output layer should not have any activation function applied to it."
   ]
  },
  {
   "cell_type": "code",
   "execution_count": 59,
   "metadata": {
    "colab": {
     "base_uri": "https://localhost:8080/",
     "height": 141
    },
    "colab_type": "code",
    "executionInfo": {
     "elapsed": 1177,
     "status": "ok",
     "timestamp": 1555171175151,
     "user": {
      "displayName": "Vikash Chouhan",
      "photoUrl": "https://lh5.googleusercontent.com/-5PQtEyCEjJk/AAAAAAAAAAI/AAAAAAAAADM/CH5FmzCM_v0/s64/photo.jpg",
      "userId": "06020587256007917917"
     },
     "user_tz": -330
    },
    "id": "1sg4ph_-cHcf",
    "outputId": "8dafd24d-81d6-49ff-f66b-05d7bd4d5753"
   },
   "outputs": [
    {
     "name": "stdout",
     "output_type": "stream",
     "text": [
      "Discriminator(\n",
      "  (fc1): Linear(in_features=30, out_features=240, bias=True)\n",
      "  (fc2): Linear(in_features=240, out_features=120, bias=True)\n",
      "  (fc3): Linear(in_features=120, out_features=1, bias=True)\n",
      "  (drp): Dropout(p=0.5)\n",
      "  (LRelu): LeakyReLU(negative_slope=0.2)\n",
      ")\n"
     ]
    }
   ],
   "source": [
    "import torch.nn as nn\n",
    "import torch.nn.functional as F\n",
    "\n",
    "class Discriminator(nn.Module):\n",
    "\n",
    "    def __init__(self, input_size, hidden_dim, output_size):\n",
    "        super(Discriminator, self).__init__()\n",
    "        \n",
    "        # define hidden linear layers\n",
    "        self.fc1 = nn.Linear(input_size, hidden_dim*4)\n",
    "        self.fc2 = nn.Linear(hidden_dim*4, hidden_dim*2)\n",
    "        self.fc3 = nn.Linear(hidden_dim*2, hidden_dim)\n",
    "        \n",
    "        # final fully-connected layer\n",
    "        self.fc4 = nn.Linear(hidden_dim, output_size)\n",
    "        \n",
    "        # dropout layer \n",
    "        self.dropout = nn.Dropout(0.3)\n",
    "        \n",
    "        \n",
    "    def forward(self, x):\n",
    "        # flatten image\n",
    "        x = x.view(-1, 28*28)\n",
    "        # all hidden layers\n",
    "        x = F.leaky_relu(self.fc1(x), 0.2) # (input, negative_slope=0.2)\n",
    "        x = self.dropout(x)\n",
    "        x = F.leaky_relu(self.fc2(x), 0.2)\n",
    "        x = self.dropout(x)\n",
    "        x = F.leaky_relu(self.fc3(x), 0.2)\n",
    "        x = self.dropout(x)\n",
    "        # final layer\n",
    "        out = self.fc4(x)\n",
    "\n",
    "        return out\n"
   ]
  },
  {
   "cell_type": "markdown",
   "metadata": {
    "colab_type": "text",
    "id": "aDlsUYdpcHco"
   },
   "source": [
    "## Generator\n",
    "\n",
    "The generator network will be almost exactly the same as the discriminator network, except that we're applying a [tanh activation function](https://pytorch.org/docs/stable/nn.html#tanh) to our output layer.\n",
    "\n",
    "#### tanh Output\n",
    "The generator has been found to perform the best with $tanh$ for the generator output, which scales the output to be between -1 and 1, instead of 0 and 1. \n",
    "\n",
    "<img src='assets/tanh_fn.png' width=40% />\n",
    "\n",
    "Recall that we also want these outputs to be comparable to the *real* input pixel values, which are read in as normalized values between 0 and 1. \n",
    "> So, we'll also have to **scale our real input images to have pixel values between -1 and 1** when we train the discriminator. \n",
    "\n",
    "we'll do this in the training loop, later on."
   ]
  },
  {
   "cell_type": "code",
   "execution_count": 0,
   "metadata": {
    "colab": {},
    "colab_type": "code",
    "id": "oj-qPizicHcq"
   },
   "outputs": [],
   "source": [
    "class Generator(nn.Module):\n",
    "\n",
    "    def __init__(self, input_size, hidden_dim, output_size):\n",
    "        super(Generator, self).__init__()\n",
    "        \n",
    "        # define hidden linear layers\n",
    "        self.fc1 = nn.Linear(input_size, hidden_dim)\n",
    "        self.fc2 = nn.Linear(hidden_dim, hidden_dim*2)\n",
    "        self.fc3 = nn.Linear(hidden_dim*2, hidden_dim*4)\n",
    "        \n",
    "        # final fully-connected layer\n",
    "        self.fc4 = nn.Linear(hidden_dim*4, output_size)\n",
    "        \n",
    "        # dropout layer \n",
    "        self.dropout = nn.Dropout(0.3)\n",
    "\n",
    "    def forward(self, x):\n",
    "        # all hidden layers\n",
    "        x = F.leaky_relu(self.fc1(x), 0.2) # (input, negative_slope=0.2)\n",
    "        x = self.dropout(x)\n",
    "        x = F.leaky_relu(self.fc2(x), 0.2)\n",
    "        x = self.dropout(x)\n",
    "        x = F.leaky_relu(self.fc3(x), 0.2)\n",
    "        x = self.dropout(x)\n",
    "        # final layer with tanh applied\n",
    "        out = F.tanh(self.fc4(x))\n",
    "\n",
    "        return out"
   ]
  },
  {
   "cell_type": "markdown",
   "metadata": {
    "colab_type": "text",
    "id": "W7QH5gAtcHcw"
   },
   "source": [
    "## Model hyperparameters"
   ]
  },
  {
   "cell_type": "code",
   "execution_count": 0,
   "metadata": {
    "colab": {},
    "colab_type": "code",
    "id": "-FewYU_tcHcy"
   },
   "outputs": [],
   "source": [
    "# Discriminator hyperparams\n",
    "\n",
    "# Size of input image to discriminator (28*28)\n",
    "input_size = 28*28\n",
    "# Size of discriminator output (real or fake)\n",
    "d_output_size = 1\n",
    "# Size of *last* hidden layer in the discriminator\n",
    "d_hidden_size = 32\n",
    "\n",
    "# Generator hyperparams\n",
    "\n",
    "# Size of latent vector to give to generator\n",
    "z_size = 100\n",
    "# Size of discriminator output (generated image)\n",
    "g_output_size = 28*28\n",
    "# Size of *first* hidden layer in the generator\n",
    "g_hidden_size = 32"
   ]
  },
  {
   "cell_type": "markdown",
   "metadata": {
    "colab_type": "text",
    "id": "3sgdDo0xcHc3"
   },
   "source": [
    "## Build complete network\n",
    "\n",
    "Now we're instantiating the discriminator and generator from the classes defined above. "
   ]
  },
  {
   "cell_type": "code",
   "execution_count": 60,
   "metadata": {
    "colab": {
     "base_uri": "https://localhost:8080/",
     "height": 301
    },
    "colab_type": "code",
    "executionInfo": {
     "elapsed": 1868,
     "status": "ok",
     "timestamp": 1555171178859,
     "user": {
      "displayName": "Vikash Chouhan",
      "photoUrl": "https://lh5.googleusercontent.com/-5PQtEyCEjJk/AAAAAAAAAAI/AAAAAAAAADM/CH5FmzCM_v0/s64/photo.jpg",
      "userId": "06020587256007917917"
     },
     "user_tz": -330
    },
    "id": "dYx-E1AzcHc5",
    "outputId": "3320cf43-3b0f-48b1-8c6a-f927072a28fb"
   },
   "outputs": [
    {
     "name": "stdout",
     "output_type": "stream",
     "text": [
      "Discriminator(\n",
      "  (fc1): Linear(in_features=784, out_features=128, bias=True)\n",
      "  (fc2): Linear(in_features=128, out_features=64, bias=True)\n",
      "  (fc3): Linear(in_features=64, out_features=1, bias=True)\n",
      "  (drp): Dropout(p=0.5)\n",
      "  (LRelu): LeakyReLU(negative_slope=0.2)\n",
      ")\n",
      "\n",
      "Generator(\n",
      "  (fc1): Linear(in_features=100, out_features=128, bias=True)\n",
      "  (fc2): Linear(in_features=128, out_features=64, bias=True)\n",
      "  (fc3): Linear(in_features=64, out_features=784, bias=True)\n",
      "  (LRelu): LeakyReLU(negative_slope=0.2)\n",
      "  (tanh): Tanh()\n",
      "  (drp): Dropout(p=0.5)\n",
      ")\n"
     ]
    }
   ],
   "source": [
    "# instantiate discriminator and generator\n",
    "D = Discriminator(input_size, d_hidden_size, d_output_size)\n",
    "G = Generator(z_size, g_hidden_size, g_output_size)\n",
    "\n",
    "# check that they are as you expect\n",
    "print(D)\n",
    "print()\n",
    "print(G)"
   ]
  },
  {
   "cell_type": "markdown",
   "metadata": {
    "colab_type": "text",
    "id": "nOFo-1gccHdA"
   },
   "source": [
    "---\n",
    "## Discriminator and Generator Losses\n",
    "\n",
    "Now we need to calculate the losses. \n",
    "\n",
    "### Discriminator Losses\n",
    "\n",
    "> * For the discriminator, the total loss is the sum of the losses for real and fake images, `d_loss = d_real_loss + d_fake_loss`. \n",
    "* Remember that we want the discriminator to output 1 for real images and 0 for fake images, so we need to set up the losses to reflect that.\n",
    "\n",
    "<img src='assets/gan_pipeline.png' width=70% />\n",
    "\n",
    "The losses will by binary cross entropy loss with logits, which we can get with [BCEWithLogitsLoss](https://pytorch.org/docs/stable/nn.html#bcewithlogitsloss). This combines a `sigmoid` activation function **and** and binary cross entropy loss in one function.\n",
    "\n",
    "For the real images, we want `D(real_images) = 1`. That is, we want the discriminator to classify the the real images with a label = 1, indicating that these are real. To help the discriminator generalize better, the labels are **reduced a bit from 1.0 to 0.9**. For this, we'll use the parameter `smooth`; if True, then we should smooth our labels. In PyTorch, this looks like `labels = torch.ones(size) * 0.9`\n",
    "\n",
    "The discriminator loss for the fake data is similar. We want `D(fake_images) = 0`, where the fake images are the _generator output_, `fake_images = G(z)`. \n",
    "\n",
    "### Generator Loss\n",
    "\n",
    "The generator loss will look similar only with flipped labels. The generator's goal is to get `D(fake_images) = 1`. In this case, the labels are **flipped** to represent that the generator is trying to fool the discriminator into thinking that the images it generates (fakes) are real!"
   ]
  },
  {
   "cell_type": "code",
   "execution_count": 0,
   "metadata": {
    "colab": {},
    "colab_type": "code",
    "id": "_qcW-8kycHdC"
   },
   "outputs": [],
   "source": [
    "# Calculate losses\n",
    "def real_loss(D_out, smooth=False):\n",
    "    # compare logits to real labels\n",
    "    # smooth labels if smooth=True\n",
    "    target = torch.ones(D_out.size(0))\n",
    "    \n",
    "    if(smooth):\n",
    "      target*=0.9\n",
    "      \n",
    "    criterian = nn.BCEWithLogitsLoss()\n",
    "    loss = criterian(D_out.squeeze(),target)\n",
    "    return loss\n",
    "\n",
    "def fake_loss(D_out):\n",
    "    # compare logits to fake labels\n",
    "    target = torch.zeros(D_out.size(0))\n",
    "    criterian = nn.BCEWithLogitsLoss()\n",
    "    loss = criterian(D_out.squeeze(),target)\n",
    "    return loss"
   ]
  },
  {
   "cell_type": "markdown",
   "metadata": {
    "colab_type": "text",
    "id": "zBQkV_J1cHdS"
   },
   "source": [
    "## Optimizers\n",
    "\n",
    "We want to update the generator and discriminator variables separately. So, we'll define two separate Adam optimizers."
   ]
  },
  {
   "cell_type": "code",
   "execution_count": 0,
   "metadata": {
    "colab": {},
    "colab_type": "code",
    "id": "u45vC5qRcHdX",
    "scrolled": true
   },
   "outputs": [],
   "source": [
    "import torch.optim as optim\n",
    "\n",
    "# learning rate for optimizers\n",
    "lr = 0.002\n",
    "\n",
    "# Create optimizers for the discriminator and generator\n",
    "d_optimizer = optim.Adam(D.parameters(),lr)\n",
    "g_optimizer = optim.Adam(G.parameters(),lr)"
   ]
  },
  {
   "cell_type": "markdown",
   "metadata": {
    "colab_type": "text",
    "id": "Ttb2n0KQcHdj"
   },
   "source": [
    "---\n",
    "## Training\n",
    "\n",
    "Training will involve alternating between training the discriminator and the generator. We'll use our functions `real_loss` and `fake_loss` to help us calculate the discriminator losses in all of the following cases.\n",
    "\n",
    "### Discriminator training\n",
    "1. Compute the discriminator loss on real, training images        \n",
    "2. Generate fake images\n",
    "3. Compute the discriminator loss on fake, generated images     \n",
    "4. Add up real and fake loss\n",
    "5. Perform backpropagation + an optimization step to update the discriminator's weights\n",
    "\n",
    "### Generator training\n",
    "1. Generate fake images\n",
    "2. Compute the discriminator loss on fake images, using **flipped** labels!\n",
    "3. Perform backpropagation + an optimization step to update the generator's weights\n",
    "\n",
    "#### Saving Samples\n",
    "\n",
    "As we train, we'll also print out some loss statistics and save some generated \"fake\" samples."
   ]
  },
  {
   "cell_type": "code",
   "execution_count": 63,
   "metadata": {
    "colab": {
     "base_uri": "https://localhost:8080/",
     "height": 2150
    },
    "colab_type": "code",
    "executionInfo": {
     "elapsed": 702875,
     "status": "ok",
     "timestamp": 1555171892171,
     "user": {
      "displayName": "Vikash Chouhan",
      "photoUrl": "https://lh5.googleusercontent.com/-5PQtEyCEjJk/AAAAAAAAAAI/AAAAAAAAADM/CH5FmzCM_v0/s64/photo.jpg",
      "userId": "06020587256007917917"
     },
     "user_tz": -330
    },
    "id": "VI_2-c9UcHdn",
    "outputId": "faea23a5-0dc1-4424-f55b-f99c39dce5bc",
    "scrolled": true
   },
   "outputs": [
    {
     "name": "stdout",
     "output_type": "stream",
     "text": [
      "Epoch [    1/   40] | d_loss: 1.3590 | g_loss: 0.6957\n",
      "Epoch [    1/   40] | d_loss: 0.4960 | g_loss: 5.8747\n",
      "Epoch [    1/   40] | d_loss: 0.9502 | g_loss: 1.8959\n",
      "Epoch [    2/   40] | d_loss: 0.6487 | g_loss: 3.8712\n",
      "Epoch [    2/   40] | d_loss: 0.9879 | g_loss: 1.1453\n",
      "Epoch [    2/   40] | d_loss: 1.1615 | g_loss: 1.0650\n",
      "Epoch [    3/   40] | d_loss: 1.1163 | g_loss: 0.7728\n",
      "Epoch [    3/   40] | d_loss: 0.8302 | g_loss: 1.9229\n",
      "Epoch [    3/   40] | d_loss: 1.0785 | g_loss: 1.6628\n",
      "Epoch [    4/   40] | d_loss: 0.8752 | g_loss: 1.6313\n",
      "Epoch [    4/   40] | d_loss: 0.8678 | g_loss: 1.4115\n",
      "Epoch [    4/   40] | d_loss: 0.9448 | g_loss: 1.8144\n",
      "Epoch [    5/   40] | d_loss: 1.0402 | g_loss: 1.1597\n",
      "Epoch [    5/   40] | d_loss: 0.9958 | g_loss: 1.5786\n",
      "Epoch [    5/   40] | d_loss: 1.2179 | g_loss: 1.0985\n",
      "Epoch [    6/   40] | d_loss: 1.0852 | g_loss: 1.1634\n",
      "Epoch [    6/   40] | d_loss: 1.0513 | g_loss: 1.5988\n",
      "Epoch [    6/   40] | d_loss: 1.4352 | g_loss: 1.0681\n",
      "Epoch [    7/   40] | d_loss: 1.1461 | g_loss: 1.4408\n",
      "Epoch [    7/   40] | d_loss: 1.0794 | g_loss: 1.0970\n",
      "Epoch [    7/   40] | d_loss: 1.1561 | g_loss: 1.0738\n",
      "Epoch [    8/   40] | d_loss: 1.3052 | g_loss: 1.1109\n",
      "Epoch [    8/   40] | d_loss: 1.2626 | g_loss: 1.1756\n",
      "Epoch [    8/   40] | d_loss: 1.4081 | g_loss: 0.8529\n",
      "Epoch [    9/   40] | d_loss: 1.1867 | g_loss: 1.2445\n",
      "Epoch [    9/   40] | d_loss: 1.3839 | g_loss: 0.8849\n",
      "Epoch [    9/   40] | d_loss: 1.2319 | g_loss: 1.3116\n",
      "Epoch [   10/   40] | d_loss: 1.3512 | g_loss: 1.1837\n",
      "Epoch [   10/   40] | d_loss: 1.2950 | g_loss: 0.9636\n",
      "Epoch [   10/   40] | d_loss: 1.2585 | g_loss: 1.0366\n",
      "Epoch [   11/   40] | d_loss: 1.2611 | g_loss: 0.9223\n",
      "Epoch [   11/   40] | d_loss: 1.2617 | g_loss: 0.8344\n",
      "Epoch [   11/   40] | d_loss: 1.2885 | g_loss: 1.0080\n",
      "Epoch [   12/   40] | d_loss: 1.2800 | g_loss: 1.0084\n",
      "Epoch [   12/   40] | d_loss: 1.2184 | g_loss: 1.1235\n",
      "Epoch [   12/   40] | d_loss: 1.3013 | g_loss: 0.9063\n",
      "Epoch [   13/   40] | d_loss: 1.3326 | g_loss: 0.9291\n",
      "Epoch [   13/   40] | d_loss: 1.2177 | g_loss: 1.1203\n",
      "Epoch [   13/   40] | d_loss: 1.3532 | g_loss: 0.9658\n",
      "Epoch [   14/   40] | d_loss: 1.3079 | g_loss: 1.0008\n",
      "Epoch [   14/   40] | d_loss: 1.3346 | g_loss: 0.8661\n",
      "Epoch [   14/   40] | d_loss: 1.4106 | g_loss: 0.8649\n",
      "Epoch [   15/   40] | d_loss: 1.2988 | g_loss: 1.0261\n",
      "Epoch [   15/   40] | d_loss: 1.2954 | g_loss: 0.9033\n",
      "Epoch [   15/   40] | d_loss: 1.3021 | g_loss: 1.0176\n",
      "Epoch [   16/   40] | d_loss: 1.3198 | g_loss: 0.9398\n",
      "Epoch [   16/   40] | d_loss: 1.3260 | g_loss: 0.8434\n",
      "Epoch [   16/   40] | d_loss: 1.3444 | g_loss: 0.9092\n",
      "Epoch [   17/   40] | d_loss: 1.4008 | g_loss: 0.9827\n",
      "Epoch [   17/   40] | d_loss: 1.3278 | g_loss: 0.9696\n",
      "Epoch [   17/   40] | d_loss: 1.3086 | g_loss: 1.0145\n",
      "Epoch [   18/   40] | d_loss: 1.2647 | g_loss: 0.9451\n",
      "Epoch [   18/   40] | d_loss: 1.3337 | g_loss: 0.8478\n",
      "Epoch [   18/   40] | d_loss: 1.3389 | g_loss: 0.8492\n",
      "Epoch [   19/   40] | d_loss: 1.3240 | g_loss: 1.0110\n",
      "Epoch [   19/   40] | d_loss: 1.3581 | g_loss: 0.9087\n",
      "Epoch [   19/   40] | d_loss: 1.3940 | g_loss: 0.9128\n",
      "Epoch [   20/   40] | d_loss: 1.3400 | g_loss: 0.8395\n",
      "Epoch [   20/   40] | d_loss: 1.2285 | g_loss: 1.0067\n",
      "Epoch [   20/   40] | d_loss: 1.4321 | g_loss: 0.9274\n",
      "Epoch [   21/   40] | d_loss: 1.3604 | g_loss: 0.8523\n",
      "Epoch [   21/   40] | d_loss: 1.3412 | g_loss: 0.8526\n",
      "Epoch [   21/   40] | d_loss: 1.3223 | g_loss: 0.9025\n",
      "Epoch [   22/   40] | d_loss: 1.4092 | g_loss: 0.9528\n",
      "Epoch [   22/   40] | d_loss: 1.3717 | g_loss: 0.9934\n",
      "Epoch [   22/   40] | d_loss: 1.3444 | g_loss: 0.9413\n",
      "Epoch [   23/   40] | d_loss: 1.3382 | g_loss: 1.2952\n",
      "Epoch [   23/   40] | d_loss: 1.2529 | g_loss: 1.0846\n",
      "Epoch [   23/   40] | d_loss: 1.2615 | g_loss: 0.9877\n",
      "Epoch [   24/   40] | d_loss: 1.3697 | g_loss: 0.9039\n",
      "Epoch [   24/   40] | d_loss: 1.3423 | g_loss: 0.8628\n",
      "Epoch [   24/   40] | d_loss: 1.3690 | g_loss: 0.9066\n",
      "Epoch [   25/   40] | d_loss: 1.2726 | g_loss: 0.8730\n",
      "Epoch [   25/   40] | d_loss: 1.2720 | g_loss: 0.9066\n",
      "Epoch [   25/   40] | d_loss: 1.2986 | g_loss: 0.8819\n",
      "Epoch [   26/   40] | d_loss: 1.2979 | g_loss: 0.8854\n",
      "Epoch [   26/   40] | d_loss: 1.2910 | g_loss: 0.9456\n",
      "Epoch [   26/   40] | d_loss: 1.3732 | g_loss: 0.9939\n",
      "Epoch [   27/   40] | d_loss: 1.3769 | g_loss: 0.8799\n",
      "Epoch [   27/   40] | d_loss: 1.2876 | g_loss: 0.8922\n",
      "Epoch [   27/   40] | d_loss: 1.3036 | g_loss: 0.9384\n",
      "Epoch [   28/   40] | d_loss: 1.3877 | g_loss: 0.9509\n",
      "Epoch [   28/   40] | d_loss: 1.3355 | g_loss: 0.8754\n",
      "Epoch [   28/   40] | d_loss: 1.3652 | g_loss: 0.8634\n",
      "Epoch [   29/   40] | d_loss: 1.3576 | g_loss: 0.9221\n",
      "Epoch [   29/   40] | d_loss: 1.3683 | g_loss: 0.8004\n",
      "Epoch [   29/   40] | d_loss: 1.3665 | g_loss: 0.9455\n",
      "Epoch [   30/   40] | d_loss: 1.2788 | g_loss: 0.8498\n",
      "Epoch [   30/   40] | d_loss: 1.3605 | g_loss: 0.8271\n",
      "Epoch [   30/   40] | d_loss: 1.3827 | g_loss: 0.9018\n",
      "Epoch [   31/   40] | d_loss: 1.2713 | g_loss: 0.9848\n",
      "Epoch [   31/   40] | d_loss: 1.3053 | g_loss: 1.0453\n",
      "Epoch [   31/   40] | d_loss: 1.3538 | g_loss: 0.8836\n",
      "Epoch [   32/   40] | d_loss: 1.4066 | g_loss: 0.9301\n",
      "Epoch [   32/   40] | d_loss: 1.3709 | g_loss: 0.8734\n",
      "Epoch [   32/   40] | d_loss: 1.4323 | g_loss: 1.0735\n",
      "Epoch [   33/   40] | d_loss: 1.3518 | g_loss: 0.8172\n",
      "Epoch [   33/   40] | d_loss: 1.3280 | g_loss: 0.9482\n",
      "Epoch [   33/   40] | d_loss: 1.4324 | g_loss: 0.8341\n",
      "Epoch [   34/   40] | d_loss: 1.2972 | g_loss: 0.9454\n",
      "Epoch [   34/   40] | d_loss: 1.3646 | g_loss: 0.8331\n",
      "Epoch [   34/   40] | d_loss: 1.3999 | g_loss: 0.8508\n",
      "Epoch [   35/   40] | d_loss: 1.3661 | g_loss: 1.0378\n",
      "Epoch [   35/   40] | d_loss: 1.3558 | g_loss: 0.8974\n",
      "Epoch [   35/   40] | d_loss: 1.3263 | g_loss: 0.8412\n",
      "Epoch [   36/   40] | d_loss: 1.3317 | g_loss: 0.8599\n",
      "Epoch [   36/   40] | d_loss: 1.3220 | g_loss: 0.8527\n",
      "Epoch [   36/   40] | d_loss: 1.3770 | g_loss: 0.9580\n",
      "Epoch [   37/   40] | d_loss: 1.3727 | g_loss: 0.8580\n",
      "Epoch [   37/   40] | d_loss: 1.2660 | g_loss: 0.8992\n",
      "Epoch [   37/   40] | d_loss: 1.3579 | g_loss: 1.0784\n",
      "Epoch [   38/   40] | d_loss: 1.3399 | g_loss: 1.0384\n",
      "Epoch [   38/   40] | d_loss: 1.2529 | g_loss: 0.9859\n",
      "Epoch [   38/   40] | d_loss: 1.3807 | g_loss: 1.0101\n",
      "Epoch [   39/   40] | d_loss: 1.3313 | g_loss: 0.9096\n",
      "Epoch [   39/   40] | d_loss: 1.3203 | g_loss: 1.0081\n",
      "Epoch [   39/   40] | d_loss: 1.3020 | g_loss: 0.9978\n",
      "Epoch [   40/   40] | d_loss: 1.3593 | g_loss: 1.0093\n",
      "Epoch [   40/   40] | d_loss: 1.2971 | g_loss: 0.9693\n",
      "Epoch [   40/   40] | d_loss: 1.3575 | g_loss: 0.8578\n"
     ]
    }
   ],
   "source": [
    "import pickle as pkl\n",
    "\n",
    "# training hyperparams\n",
    "num_epochs = 40\n",
    "\n",
    "# keep track of loss and generated, \"fake\" samples\n",
    "samples = []\n",
    "losses = []\n",
    "\n",
    "print_every = 400\n",
    "\n",
    "# Get some fixed data for sampling. These are images that are held\n",
    "# constant throughout training, and allow us to inspect the model's performance\n",
    "sample_size=16\n",
    "fixed_z = np.random.uniform(-1, 1, size=(sample_size, z_size))\n",
    "fixed_z = torch.from_numpy(fixed_z).float()\n",
    "\n",
    "# train the network\n",
    "D.train()\n",
    "G.train()\n",
    "for epoch in range(num_epochs):\n",
    "    \n",
    "    for batch_i, (real_images, _) in enumerate(train_loader):\n",
    "                \n",
    "        batch_size = real_images.size(0)\n",
    "        \n",
    "        ## Important rescaling step ## \n",
    "        real_images = real_images*2 - 1  # rescale input images from [0,1) to [-1, 1)\n",
    "        \n",
    "        # ============================================\n",
    "        #            TRAIN THE DISCRIMINATOR\n",
    "        # ============================================\n",
    "                \n",
    "        # 1. Train with real images\n",
    "\n",
    "        # Compute the discriminator losses on real images\n",
    "        # use smoothed labels\n",
    "        d_optimizer.zero_grad()\n",
    "        D_out = D(real_images)\n",
    "        realLoss = real_loss(D_out,smooth=True) \n",
    "        # 2. Train with fake images\n",
    "        \n",
    "        # Generate fake images\n",
    "        z = np.random.uniform(-1, 1, size=(batch_size, z_size))\n",
    "        z = torch.from_numpy(z).float()\n",
    "        fake_images = G(z)\n",
    "        \n",
    "        # Compute the discriminator losses on fake images \n",
    "        D_fake_out = D(fake_images)\n",
    "        fakeLoss = fake_loss(D_fake_out)\n",
    "        # add up real and fake losses and perform backprop\n",
    "        d_loss = realLoss + fakeLoss\n",
    "        \n",
    "        \n",
    "        d_loss.backward()\n",
    "        d_optimizer.step()\n",
    "        \n",
    "        \n",
    "        # =========================================\n",
    "        #            TRAIN THE GENERATOR\n",
    "        # =========================================\n",
    "        \n",
    "        # 1. Train with fake images and flipped labels\n",
    "        g_optimizer.zero_grad()\n",
    "        \n",
    "        # Generate fake images\n",
    "        z = np.random.uniform(-1, 1, size=(batch_size, z_size))\n",
    "        z = torch.from_numpy(z).float()\n",
    "        fake_images = G(z)\n",
    "        # Compute the discriminator losses on fake images \n",
    "        # using flipped labels!\n",
    "        \n",
    "        # perform backprop\n",
    "        \n",
    "        D_fake_images = D(fake_images)\n",
    "        g_loss = real_loss(D_fake_images)\n",
    "        \n",
    "        g_loss.backward()\n",
    "        g_optimizer.step()\n",
    "        \n",
    "\n",
    "        # Print some loss stats\n",
    "        if batch_i % print_every == 0:\n",
    "            # print discriminator and generator loss\n",
    "            print('Epoch [{:5d}/{:5d}] | d_loss: {:6.4f} | g_loss: {:6.4f}'.format(\n",
    "                    epoch+1, num_epochs, d_loss.item(), g_loss.item()))\n",
    "\n",
    "    \n",
    "    ## AFTER EACH EPOCH##\n",
    "    # append discriminator loss and generator loss\n",
    "    losses.append((d_loss.item(), g_loss.item()))\n",
    "    \n",
    "    # generate and save sample, fake images\n",
    "    G.eval() # eval mode for generating samples\n",
    "    samples_z = G(fixed_z)\n",
    "    samples.append(samples_z)\n",
    "    G.train() # back to train mode\n",
    "\n",
    "\n",
    "# Save training generator samples\n",
    "with open('train_samples.pkl', 'wb') as f:\n",
    "    pkl.dump(samples, f)"
   ]
  },
  {
   "cell_type": "markdown",
   "metadata": {
    "colab_type": "text",
    "id": "jIAUbqTkcHdz"
   },
   "source": [
    "## Training loss\n",
    "\n",
    "Here we'll plot the training losses for the generator and discriminator, recorded after each epoch."
   ]
  },
  {
   "cell_type": "code",
   "execution_count": 64,
   "metadata": {
    "colab": {
     "base_uri": "https://localhost:8080/",
     "height": 298
    },
    "colab_type": "code",
    "executionInfo": {
     "elapsed": 2237,
     "status": "ok",
     "timestamp": 1555171980825,
     "user": {
      "displayName": "Vikash Chouhan",
      "photoUrl": "https://lh5.googleusercontent.com/-5PQtEyCEjJk/AAAAAAAAAAI/AAAAAAAAADM/CH5FmzCM_v0/s64/photo.jpg",
      "userId": "06020587256007917917"
     },
     "user_tz": -330
    },
    "id": "taD23gmjcHd0",
    "outputId": "3286bed1-ec09-40a9-e557-f1974be4a81a"
   },
   "outputs": [
    {
     "data": {
      "text/plain": [
       "<matplotlib.legend.Legend at 0x7f63bf56a390>"
      ]
     },
     "execution_count": 64,
     "metadata": {
      "tags": []
     },
     "output_type": "execute_result"
    },
    {
     "data": {
      "image/png": "[encoded data removed]",
      "text/plain": [
       "<Figure size 432x288 with 1 Axes>"
      ]
     },
     "metadata": {
      "tags": []
     },
     "output_type": "display_data"
    }
   ],
   "source": [
    "fig, ax = plt.subplots()\n",
    "losses = np.array(losses)\n",
    "plt.plot(losses.T[0], label='Discriminator')\n",
    "plt.plot(losses.T[1], label='Generator')\n",
    "plt.title(\"Training Losses\")\n",
    "plt.legend()"
   ]
  },
  {
   "cell_type": "markdown",
   "metadata": {
    "colab_type": "text",
    "id": "3P2nGQBwcHd5"
   },
   "source": [
    "## Generator samples from training\n",
    "\n",
    "Here we can view samples of images from the generator. First we'll look at the images we saved during training."
   ]
  },
  {
   "cell_type": "code",
   "execution_count": 0,
   "metadata": {
    "colab": {},
    "colab_type": "code",
    "id": "SisiHdDscHd-"
   },
   "outputs": [],
   "source": [
    "# helper function for viewing a list of passed in sample images\n",
    "def view_samples(epoch, samples):\n",
    "    fig, axes = plt.subplots(figsize=(7,7), nrows=4, ncols=4, sharey=True, sharex=True)\n",
    "    for ax, img in zip(axes.flatten(), samples[epoch]):\n",
    "        img = img.detach()\n",
    "        ax.xaxis.set_visible(False)\n",
    "        ax.yaxis.set_visible(False)\n",
    "        im = ax.imshow(img.reshape((28,28)), cmap='Greys_r')"
   ]
  },
  {
   "cell_type": "code",
   "execution_count": 0,
   "metadata": {
    "colab": {},
    "colab_type": "code",
    "id": "04RKosBHcHeK"
   },
   "outputs": [],
   "source": [
    "# Load samples from generator, taken while training\n",
    "with open('train_samples.pkl', 'rb') as f:\n",
    "    samples = pkl.load(f)"
   ]
  },
  {
   "cell_type": "markdown",
   "metadata": {
    "colab_type": "text",
    "id": "lylI8S2DcHeY"
   },
   "source": [
    "These are samples from the final training epoch. You can see the generator is able to reproduce numbers like 1, 7, 3, 2. Since this is just a sample, it isn't representative of the full range of images this generator can make."
   ]
  },
  {
   "cell_type": "code",
   "execution_count": 67,
   "metadata": {
    "colab": {
     "base_uri": "https://localhost:8080/",
     "height": 411
    },
    "colab_type": "code",
    "executionInfo": {
     "elapsed": 3439,
     "status": "ok",
     "timestamp": 1555172002337,
     "user": {
      "displayName": "Vikash Chouhan",
      "photoUrl": "https://lh5.googleusercontent.com/-5PQtEyCEjJk/AAAAAAAAAAI/AAAAAAAAADM/CH5FmzCM_v0/s64/photo.jpg",
      "userId": "06020587256007917917"
     },
     "user_tz": -330
    },
    "id": "oMLfdM22cHed",
    "outputId": "0ef8ca4c-cc9e-4dff-9c1c-97a9c2ec2f80"
   },
   "outputs": [
    {
     "data": {
      "image/png": "[encoded data removed]",
      "text/plain": [
       "<Figure size 504x504 with 16 Axes>"
      ]
     },
     "metadata": {
      "tags": []
     },
     "output_type": "display_data"
    }
   ],
   "source": [
    "# -1 indicates final epoch's samples (the last in the list)\n",
    "view_samples(-1, samples)"
   ]
  },
  {
   "cell_type": "markdown",
   "metadata": {
    "colab_type": "text",
    "id": "5AQjuZHgcHep"
   },
   "source": [
    "Below I'm showing the generated images as the network was training, every 10 epochs."
   ]
  },
  {
   "cell_type": "code",
   "execution_count": 68,
   "metadata": {
    "colab": {
     "base_uri": "https://localhost:8080/",
     "height": 682
    },
    "colab_type": "code",
    "executionInfo": {
     "elapsed": 4917,
     "status": "ok",
     "timestamp": 1555172012972,
     "user": {
      "displayName": "Vikash Chouhan",
      "photoUrl": "https://lh5.googleusercontent.com/-5PQtEyCEjJk/AAAAAAAAAAI/AAAAAAAAADM/CH5FmzCM_v0/s64/photo.jpg",
      "userId": "06020587256007917917"
     },
     "user_tz": -330
    },
    "id": "926fIjvocHes",
    "outputId": "15e53ac0-5357-4e02-efd1-1b0ac2eb3d29"
   },
   "outputs": [
    {
     "data": {
      "image/png": "[encoded data removed]",
      "text/plain": [
       "<Figure size 504x864 with 60 Axes>"
      ]
     },
     "metadata": {
      "tags": []
     },
     "output_type": "display_data"
    }
   ],
   "source": [
    "rows = 10 # split epochs into 10, so 100/10 = every 10 epochs\n",
    "cols = 6\n",
    "fig, axes = plt.subplots(figsize=(7,12), nrows=rows, ncols=cols, sharex=True, sharey=True)\n",
    "\n",
    "for sample, ax_row in zip(samples[::int(len(samples)/rows)], axes):\n",
    "    for img, ax in zip(sample[::int(len(sample)/cols)], ax_row):\n",
    "        img = img.detach()\n",
    "        ax.imshow(img.reshape((28,28)), cmap='Greys_r')\n",
    "        ax.xaxis.set_visible(False)\n",
    "        ax.yaxis.set_visible(False)"
   ]
  },
  {
   "cell_type": "markdown",
   "metadata": {
    "colab_type": "text",
    "id": "1-NjXhErcHfR"
   },
   "source": [
    "It starts out as all noise. Then it learns to make only the center white and the rest black. You can start to see some number like structures appear out of the noise like 1s and 9s."
   ]
  },
  {
   "cell_type": "markdown",
   "metadata": {
    "colab_type": "text",
    "id": "9FC-sHUVcHfU"
   },
   "source": [
    "## Sampling from the generator\n",
    "\n",
    "We can also get completely new images from the generator by using the checkpoint we saved after training. **We just need to pass in a new latent vector $z$ and we'll get new samples**!"
   ]
  },
  {
   "cell_type": "code",
   "execution_count": 69,
   "metadata": {
    "colab": {
     "base_uri": "https://localhost:8080/",
     "height": 411
    },
    "colab_type": "code",
    "executionInfo": {
     "elapsed": 1498,
     "status": "ok",
     "timestamp": 1555172022537,
     "user": {
      "displayName": "Vikash Chouhan",
      "photoUrl": "https://lh5.googleusercontent.com/-5PQtEyCEjJk/AAAAAAAAAAI/AAAAAAAAADM/CH5FmzCM_v0/s64/photo.jpg",
      "userId": "06020587256007917917"
     },
     "user_tz": -330
    },
    "id": "_oVWWpC5cHfX",
    "outputId": "a0d203be-2e4e-4f1e-f75d-dd133e4dbb7f"
   },
   "outputs": [
    {
     "data": {
      "image/png": "[encoded data removed]",
      "text/plain": [
       "<Figure size 504x504 with 16 Axes>"
      ]
     },
     "metadata": {
      "tags": []
     },
     "output_type": "display_data"
    }
   ],
   "source": [
    "# randomly generated, new latent vectors\n",
    "sample_size=16\n",
    "rand_z = np.random.uniform(-1, 1, size=(sample_size, z_size))\n",
    "rand_z = torch.from_numpy(rand_z).float()\n",
    "\n",
    "G.eval() # eval mode\n",
    "# generated samples\n",
    "rand_images = G(rand_z)\n",
    "\n",
    "# 0 indicates the first set of samples in the passed in list\n",
    "# and we only have one batch of samples, here\n",
    "view_samples(0, [rand_images])"
   ]
  },
  {
   "cell_type": "code",
   "execution_count": 0,
   "metadata": {
    "colab": {},
    "colab_type": "code",
    "id": "GsD4BCMBVhG9"
   },
   "outputs": [],
   "source": []
  }
 ],
 "metadata": {
  "accelerator": "GPU",
  "colab": {
   "collapsed_sections": [],
   "name": "MNIST_GAN_Exercise.ipynb",
   "provenance": [],
   "toc_visible": true,
   "version": "0.3.2"
  },
  "kernelspec": {
   "display_name": "Python 3",
   "language": "python",
   "name": "python3"
  },
  "language_info": {
   "codemirror_mode": {
    "name": "ipython",
    "version": 3
   },
   "file_extension": ".py",
   "mimetype": "text/x-python",
   "name": "python",
   "nbconvert_exporter": "python",
   "pygments_lexer": "ipython3",
   "version": "3.6.5"
  }
 },
 "nbformat": 4,
 "nbformat_minor": 1
}
